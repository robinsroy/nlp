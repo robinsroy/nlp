{
  "nbformat": 4,
  "nbformat_minor": 0,
  "metadata": {
    "colab": {
      "provenance": [],
      "authorship_tag": "ABX9TyP/V6sDXKJ3Mf6YxWbCOsp/",
      "include_colab_link": true
    },
    "kernelspec": {
      "name": "python3",
      "display_name": "Python 3"
    },
    "language_info": {
      "name": "python"
    }
  },
  "cells": [
    {
      "cell_type": "markdown",
      "metadata": {
        "id": "view-in-github",
        "colab_type": "text"
      },
      "source": [
        "<a href=\"https://colab.research.google.com/github/robinsroy/nlp/blob/main/NLP.ipynb\" target=\"_parent\"><img src=\"https://colab.research.google.com/assets/colab-badge.svg\" alt=\"Open In Colab\"/></a>"
      ]
    },
    {
      "cell_type": "code",
      "source": [
        "import spacy\n",
        "\n",
        "# Load the English NLP model\n",
        "nlp = spacy.load(\"en_core_web_sm\")\n",
        "\n",
        "# Input text\n",
        "text = \"spaCy is a powerful library for natural language processing.\"\n",
        "\n",
        "# Process the text using spaCy\n",
        "doc = nlp(text)\n",
        "\n",
        "# Step 1: Tokenization (split text into words/tokens)\n",
        "print(\"All Tokens:\")\n",
        "for token in doc:\n",
        "    print(token.text)\n",
        "\n",
        "# Sentence Tokenization\n",
        "print(\"Sentence Tokenization:\")\n",
        "for sent in doc.sents:\n",
        "    print(sent)\n",
        "\n",
        "# Step 2: Remove stopwords and punctuation\n",
        "print(\"\\nTokens after removing stopwords and punctuation:\")\n",
        "for token in doc:\n",
        "    if not token.is_stop and token.is_alpha:  # removes stopwords and non-alphabetic tokens (like punctuation)\n",
        "        print(token.text)\n",
        "\n",
        "# Step 3: Lemmatization (convert to base form)\n",
        "print(\"\\nLemmatized tokens (after stopword removal):\")\n",
        "for token in doc:\n",
        "    if not token.is_stop and token.is_alpha:\n",
        "        print(token.lemma_)\n"
      ],
      "metadata": {
        "colab": {
          "base_uri": "https://localhost:8080/"
        },
        "id": "Z08cXjgZyyYh",
        "outputId": "62676a0a-bc4b-451b-c785-bfbe16248dfd"
      },
      "execution_count": 4,
      "outputs": [
        {
          "output_type": "stream",
          "name": "stdout",
          "text": [
            "All Tokens:\n",
            "spaCy\n",
            "is\n",
            "a\n",
            "powerful\n",
            "library\n",
            "for\n",
            "natural\n",
            "language\n",
            "processing\n",
            ".\n",
            "Sentence Tokenization:\n",
            "spaCy is a powerful library for natural language processing.\n",
            "\n",
            "Tokens after removing stopwords and punctuation:\n",
            "spaCy\n",
            "powerful\n",
            "library\n",
            "natural\n",
            "language\n",
            "processing\n",
            "\n",
            "Lemmatized tokens (after stopword removal):\n",
            "spacy\n",
            "powerful\n",
            "library\n",
            "natural\n",
            "language\n",
            "processing\n"
          ]
        }
      ]
    },
    {
      "cell_type": "code",
      "source": [
        "import spacy\n",
        "from nltk.stem import PorterStemmer\n",
        "\n",
        "# Load spaCy English model\n",
        "nlp = spacy.load(\"en_core_web_sm\")\n",
        "\n",
        "# Initialize NLTK's stemmer\n",
        "stemmer = PorterStemmer()\n",
        "\n",
        "# Sample text\n",
        "text = \"Hello! I'm using Google Colab to learn NLP. spaCy and NLTK are helpful libraries.\"\n",
        "\n",
        "# Process text with spaCy\n",
        "doc = nlp(text)\n",
        "\n",
        "# Perform stemming on each word (excluding punctuation)\n",
        "print(\"Stemmed Words:\")\n",
        "for token in doc:\n",
        "    if token.is_alpha:  # ignore punctuation/numbers\n",
        "        print(f\"{token.text} → {stemmer.stem(token.text)}\")\n"
      ],
      "metadata": {
        "colab": {
          "base_uri": "https://localhost:8080/"
        },
        "id": "QgDgXaW3IT_A",
        "outputId": "fd507f1e-01e7-457c-eba3-b4f7cd445535"
      },
      "execution_count": null,
      "outputs": [
        {
          "output_type": "stream",
          "name": "stdout",
          "text": [
            "Stemmed Words:\n",
            "Hello → hello\n",
            "I → i\n",
            "using → use\n",
            "Google → googl\n",
            "Colab → colab\n",
            "to → to\n",
            "learn → learn\n",
            "NLP → nlp\n",
            "spaCy → spaci\n",
            "and → and\n",
            "NLTK → nltk\n",
            "are → are\n",
            "helpful → help\n",
            "libraries → librari\n"
          ]
        }
      ]
    },
    {
      "cell_type": "code",
      "source": [
        "\n",
        "\n",
        "import nltk\n",
        "from nltk.tokenize import word_tokenize\n",
        "from nltk.corpus import stopwords\n",
        "from nltk.stem import PorterStemmer, WordNetLemmatizer\n",
        "\n",
        "# Download required NLTK data (only once)\n",
        "nltk.download('punkt')\n",
        "nltk.download('stopwords')\n",
        "nltk.download('wordnet')\n",
        "nltk.download('omw-1.4')\n",
        "nltk.download('punkt_tab')\n",
        "\n",
        "\n",
        "# Sample text\n",
        "text = \"NLTK is a powerful library for natural language processing tasks like tokenization, stemming, and lemmatization.\"\n",
        "\n",
        "# Tokenization\n",
        "tokens = word_tokenize(text)\n",
        "print(\"Tokens:\", tokens)\n",
        "\n",
        "\n",
        "# Sentence Tokenization\n",
        "print(\"Sentence Tokenization:\")\n",
        "for sent in doc.sents:\n",
        "    print(sent)\n",
        "\n",
        "# Remove Stopwords\n",
        "stop_words = set(stopwords.words('english'))\n",
        "filtered_tokens = [word for word in tokens if word.lower() not in stop_words]\n",
        "print(\"\\nAfter Stopword Removal:\", filtered_tokens)\n",
        "\n",
        "# Stemming\n",
        "stemmer = PorterStemmer()\n",
        "stemmed_tokens = [stemmer.stem(word) for word in filtered_tokens]\n",
        "print(\"\\nAfter Stemming:\", stemmed_tokens)\n",
        "\n",
        "# Lemmatization\n",
        "lemmatizer = WordNetLemmatizer()\n",
        "lemmatized_tokens = [lemmatizer.lemmatize(word) for word in filtered_tokens]\n",
        "print(\"\\nAfter Lemmatization:\", lemmatized_tokens)\n"
      ],
      "metadata": {
        "colab": {
          "base_uri": "https://localhost:8080/"
        },
        "id": "-I-JkvUBxZIs",
        "outputId": "92441de8-9054-4d65-9d73-9b249e19d35e"
      },
      "execution_count": 6,
      "outputs": [
        {
          "output_type": "stream",
          "name": "stdout",
          "text": [
            "Tokens: ['NLTK', 'is', 'a', 'powerful', 'library', 'for', 'natural', 'language', 'processing', 'tasks', 'like', 'tokenization', ',', 'stemming', ',', 'and', 'lemmatization', '.']\n",
            "Sentence Tokenization:\n",
            "spaCy is a powerful library for natural language processing.\n",
            "\n",
            "After Stopword Removal: ['NLTK', 'powerful', 'library', 'natural', 'language', 'processing', 'tasks', 'like', 'tokenization', ',', 'stemming', ',', 'lemmatization', '.']\n",
            "\n",
            "After Stemming: ['nltk', 'power', 'librari', 'natur', 'languag', 'process', 'task', 'like', 'token', ',', 'stem', ',', 'lemmat', '.']\n",
            "\n",
            "After Lemmatization: ['NLTK', 'powerful', 'library', 'natural', 'language', 'processing', 'task', 'like', 'tokenization', ',', 'stemming', ',', 'lemmatization', '.']\n"
          ]
        },
        {
          "output_type": "stream",
          "name": "stderr",
          "text": [
            "[nltk_data] Downloading package punkt to /root/nltk_data...\n",
            "[nltk_data]   Package punkt is already up-to-date!\n",
            "[nltk_data] Downloading package stopwords to /root/nltk_data...\n",
            "[nltk_data]   Package stopwords is already up-to-date!\n",
            "[nltk_data] Downloading package wordnet to /root/nltk_data...\n",
            "[nltk_data]   Package wordnet is already up-to-date!\n",
            "[nltk_data] Downloading package omw-1.4 to /root/nltk_data...\n",
            "[nltk_data]   Package omw-1.4 is already up-to-date!\n",
            "[nltk_data] Downloading package punkt_tab to /root/nltk_data...\n",
            "[nltk_data]   Package punkt_tab is already up-to-date!\n"
          ]
        }
      ]
    }
  ]
}